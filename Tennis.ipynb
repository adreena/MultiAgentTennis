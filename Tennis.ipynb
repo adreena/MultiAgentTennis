{
 "cells": [
  {
   "cell_type": "markdown",
   "metadata": {},
   "source": [
    "# Collaboration and Competition\n",
    "\n",
    "---\n",
    "\n",
    "In this notebook, you will learn how to use the Unity ML-Agents environment for the third project of the [Deep Reinforcement Learning Nanodegree](https://www.udacity.com/course/deep-reinforcement-learning-nanodegree--nd893) program.\n",
    "\n",
    "### 1. Start the Environment\n",
    "\n",
    "We begin by importing the necessary packages.  If the code cell below returns an error, please revisit the project instructions to double-check that you have installed [Unity ML-Agents](https://github.com/Unity-Technologies/ml-agents/blob/master/docs/Installation.md) and [NumPy](http://www.numpy.org/)."
   ]
  },
  {
   "cell_type": "code",
   "execution_count": 1,
   "metadata": {},
   "outputs": [],
   "source": [
    "from unityagents import UnityEnvironment\n",
    "import numpy as np\n",
    "import torch\n",
    "from collections import deque, namedtuple\n",
    "from tensorboardX import SummaryWriter\n",
    "from maddpg_agent import MADDPG\n",
    "import torch.nn.functional as F"
   ]
  },
  {
   "cell_type": "markdown",
   "metadata": {},
   "source": [
    "Next, we will start the environment!  **_Before running the code cell below_**, change the `file_name` parameter to match the location of the Unity environment that you downloaded.\n",
    "\n",
    "- **Mac**: `\"path/to/Tennis.app\"`\n",
    "- **Windows** (x86): `\"path/to/Tennis_Windows_x86/Tennis.exe\"`\n",
    "- **Windows** (x86_64): `\"path/to/Tennis_Windows_x86_64/Tennis.exe\"`\n",
    "- **Linux** (x86): `\"path/to/Tennis_Linux/Tennis.x86\"`\n",
    "- **Linux** (x86_64): `\"path/to/Tennis_Linux/Tennis.x86_64\"`\n",
    "- **Linux** (x86, headless): `\"path/to/Tennis_Linux_NoVis/Tennis.x86\"`\n",
    "- **Linux** (x86_64, headless): `\"path/to/Tennis_Linux_NoVis/Tennis.x86_64\"`\n",
    "\n",
    "For instance, if you are using a Mac, then you downloaded `Tennis.app`.  If this file is in the same folder as the notebook, then the line below should appear as follows:\n",
    "```\n",
    "env = UnityEnvironment(file_name=\"Tennis.app\")\n",
    "```"
   ]
  },
  {
   "cell_type": "code",
   "execution_count": 2,
   "metadata": {},
   "outputs": [
    {
     "name": "stderr",
     "output_type": "stream",
     "text": [
      "INFO:unityagents:\n",
      "'Academy' started successfully!\n",
      "Unity Academy name: Academy\n",
      "        Number of Brains: 1\n",
      "        Number of External Brains : 1\n",
      "        Lesson number : 0\n",
      "        Reset Parameters :\n",
      "\t\t\n",
      "Unity brain name: TennisBrain\n",
      "        Number of Visual Observations (per agent): 0\n",
      "        Vector Observation space type: continuous\n",
      "        Vector Observation space size (per agent): 8\n",
      "        Number of stacked Vector Observation: 3\n",
      "        Vector Action space type: continuous\n",
      "        Vector Action space size (per agent): 2\n",
      "        Vector Action descriptions: , \n"
     ]
    }
   ],
   "source": [
    "env = UnityEnvironment(file_name=\"Tennis_Linux/Tennis.x86_64\", no_graphics=True)"
   ]
  },
  {
   "cell_type": "markdown",
   "metadata": {},
   "source": [
    "Environments contain **_brains_** which are responsible for deciding the actions of their associated agents. Here we check for the first brain available, and set it as the default brain we will be controlling from Python."
   ]
  },
  {
   "cell_type": "code",
   "execution_count": 3,
   "metadata": {},
   "outputs": [],
   "source": [
    "# get the default brain\n",
    "brain_name = env.brain_names[0]\n",
    "brain = env.brains[brain_name]"
   ]
  },
  {
   "cell_type": "markdown",
   "metadata": {},
   "source": [
    "### 2. Examine the State and Action Spaces\n",
    "\n",
    "In this environment, two agents control rackets to bounce a ball over a net. If an agent hits the ball over the net, it receives a reward of +0.1.  If an agent lets a ball hit the ground or hits the ball out of bounds, it receives a reward of -0.01.  Thus, the goal of each agent is to keep the ball in play.\n",
    "\n",
    "The observation space consists of 8 variables corresponding to the position and velocity of the ball and racket. Two continuous actions are available, corresponding to movement toward (or away from) the net, and jumping. \n",
    "\n",
    "Run the code cell below to print some information about the environment."
   ]
  },
  {
   "cell_type": "code",
   "execution_count": 4,
   "metadata": {},
   "outputs": [
    {
     "name": "stdout",
     "output_type": "stream",
     "text": [
      "Number of agents: 2\n",
      "Size of each action: 2\n",
      "There are 2 agents. Each observes a state with length: 24\n",
      "The state for the first agent looks like: [ 0.          0.          0.          0.          0.          0.\n",
      "  0.          0.          0.          0.          0.          0.\n",
      "  0.          0.          0.          0.         -6.65278625 -1.5\n",
      " -0.          0.          6.83172083  6.         -0.          0.        ]\n"
     ]
    }
   ],
   "source": [
    "# reset the environment\n",
    "env_info = env.reset(train_mode=True)[brain_name]\n",
    "\n",
    "# number of agents \n",
    "num_agents = len(env_info.agents)\n",
    "print('Number of agents:', num_agents)\n",
    "\n",
    "# size of each action\n",
    "action_size = brain.vector_action_space_size\n",
    "print('Size of each action:', action_size)\n",
    "\n",
    "# examine the state space \n",
    "states = env_info.vector_observations\n",
    "state_size = states.shape[1]\n",
    "print('There are {} agents. Each observes a state with length: {}'.format(states.shape[0], state_size))\n",
    "print('The state for the first agent looks like:', states[0])"
   ]
  },
  {
   "cell_type": "markdown",
   "metadata": {},
   "source": [
    "### 3. Take Random Actions in the Environment\n",
    "\n",
    "In the next code cell, you will learn how to use the Python API to control the agents and receive feedback from the environment.\n",
    "\n",
    "Once this cell is executed, you will watch the agents' performance, if they select actions at random with each time step.  A window should pop up that allows you to observe the agents.\n",
    "\n",
    "Of course, as part of the project, you'll have to change the code so that the agents are able to use their experiences to gradually choose better actions when interacting with the environment!"
   ]
  },
  {
   "cell_type": "code",
   "execution_count": 5,
   "metadata": {},
   "outputs": [],
   "source": [
    "# for i in range(1, 6):                                      # play game for 5 episodes\n",
    "#     env_info = env.reset(train_mode=False)[brain_name]     # reset the environment    \n",
    "#     states = env_info.vector_observations                  # get the current state (for each agent)\n",
    "#     scores = np.zeros(num_agents)                          # initialize the score (for each agent)\n",
    "#     while True:\n",
    "#         actions = np.random.randn(num_agents, action_size) # select an action (for each agent)\n",
    "        \n",
    "#         actions = np.clip(actions, -1, 1)                  # all actions between -1 and 1\n",
    "#         print('actions', actions)\n",
    "#         env_info = env.step(actions)[brain_name]           # send all actions to tne environment\n",
    "#         next_states = env_info.vector_observations         # get next state (for each agent)\n",
    "#         print('next_states',next_states.shape)\n",
    "        \n",
    "#         rewards = env_info.rewards                         # get reward (for each agent)\n",
    "#         dones = env_info.local_done                        # see if episode finished\n",
    "#         print('rewards',rewards.shape)\n",
    "#         print('dones',dones.shape)\n",
    "#         scores += env_info.rewards                         # update the score (for each agent)\n",
    "#         states = next_states                               # roll over states to next time step\n",
    "#         if np.any(dones):                                  # exit loop if episode finished\n",
    "#             break\n",
    "#         break\n",
    "#     print('Score (max over agents) from episode {}: {}'.format(i, np.max(scores)))"
   ]
  },
  {
   "cell_type": "markdown",
   "metadata": {},
   "source": [
    "When finished, you can close the environment."
   ]
  },
  {
   "cell_type": "code",
   "execution_count": 6,
   "metadata": {},
   "outputs": [],
   "source": [
    "# env.close()"
   ]
  },
  {
   "cell_type": "markdown",
   "metadata": {},
   "source": [
    "### 4. It's Your Turn!\n",
    "\n",
    "Now it's your turn to train your own agent to solve the environment!  When training the environment, set `train_mode=True`, so that the line for resetting the environment looks like the following:\n",
    "```python\n",
    "env_info = env.reset(train_mode=True)[brain_name]\n",
    "```"
   ]
  },
  {
   "cell_type": "code",
   "execution_count": 7,
   "metadata": {},
   "outputs": [
    {
     "name": "stdout",
     "output_type": "stream",
     "text": [
      "Episode: 0\tAverage Score: 0.0\tepsilon:1.0\n",
      "Episode: 100\tAverage Score: 0.019000000320374966\tepsilon:0.99999\n",
      "Episode: 200\tAverage Score: 0.025900000426918268\tepsilon:0.99999\n",
      "Episode: 300\tAverage Score: 0.014300000239163637\tepsilon:0.99999\n",
      "Episode: 400\tAverage Score: 0.016400000266730785\tepsilon:0.99999\n",
      "Episode: 500\tAverage Score: 0.014600000232458115\tepsilon:0.99999\n",
      "Episode: 600\tAverage Score: 0.017400000281631946\tepsilon:0.99999\n",
      "Episode: 700\tAverage Score: 0.01650000026449561\tepsilon:0.99999\n",
      "Episode: 800\tAverage Score: 0.02790000045672059\tepsilon:0.99999\n",
      "Episode: 900\tAverage Score: 0.00980000015348196\tepsilon:0.99999\n",
      "Episode: 1000\tAverage Score: 0.015300000254064798\tepsilon:0.99999\n",
      "Episode: 1100\tAverage Score: 0.018400000296533107\tepsilon:0.9999800000000001\n",
      "Episode: 1200\tAverage Score: 0.01730000028386712\tepsilon:0.9999800000000001\n",
      "Episode: 1300\tAverage Score: 0.019000000339001417\tepsilon:0.9999800000000001\n",
      "Episode: 1400\tAverage Score: 0.01370000021532178\tepsilon:0.9999800000000001\n",
      "Episode: 1500\tAverage Score: 0.01160000018775463\tepsilon:0.9999800000000001\n",
      "Episode: 1600\tAverage Score: 0.014100000243633986\tepsilon:0.9999800000000001\n",
      "Episode: 1700\tAverage Score: 0.014400000236928463\tepsilon:0.9999800000000001\n",
      "Episode: 1800\tAverage Score: 0.013400000222027302\tepsilon:0.9999800000000001\n",
      "Episode: 1900\tAverage Score: 0.010300000179558993\tepsilon:0.9999800000000001\n",
      "Episode: 2000\tAverage Score: 0.012500000204890966\tepsilon:0.9999800000000001\n",
      "Episode: 2100\tAverage Score: 0.0019000000320374966\tepsilon:0.9999700000000001\n",
      "Episode: 2200\tAverage Score: 0.015400000270456076\tepsilon:0.9999700000000001\n",
      "Episode: 2300\tAverage Score: 0.01160000018775463\tepsilon:0.9999700000000001\n",
      "Episode: 2400\tAverage Score: 0.010400000177323818\tepsilon:0.9999700000000001\n",
      "Episode: 2500\tAverage Score: 0.011800000183284283\tepsilon:0.9999700000000001\n",
      "Episode: 2600\tAverage Score: 0.01160000018775463\tepsilon:0.9999700000000001\n",
      "Episode: 2700\tAverage Score: 0.009500000160187483\tepsilon:0.9999700000000001\n",
      "Episode: 2800\tAverage Score: 0.004600000083446503\tepsilon:0.9999700000000001\n",
      "Episode: 2900\tAverage Score: 0.006600000113248825\tepsilon:0.9999700000000001\n",
      "Episode: 3000\tAverage Score: 0.004800000078976154\tepsilon:0.9999700000000001\n",
      "Episode: 3100\tAverage Score: 0.006500000115484\tepsilon:0.9999600000000002\n",
      "Episode: 3200\tAverage Score: 0.00570000009611249\tepsilon:0.9999600000000002\n",
      "Episode: 3300\tAverage Score: 0.014400000236928463\tepsilon:0.9999600000000002\n",
      "Episode: 3400\tAverage Score: 0.004700000081211329\tepsilon:0.9999600000000002\n",
      "Episode: 3500\tAverage Score: 0.007600000128149986\tepsilon:0.9999600000000002\n",
      "Episode: 3600\tAverage Score: 0.004800000078976154\tepsilon:0.9999600000000002\n",
      "Episode: 3700\tAverage Score: 0.0019000000320374966\tepsilon:0.9999600000000002\n",
      "Episode: 3800\tAverage Score: 0.00570000009611249\tepsilon:0.9999600000000002\n",
      "Episode: 3900\tAverage Score: 0.005600000098347664\tepsilon:0.9999600000000002\n",
      "Episode: 4000\tAverage Score: 0.005800000093877315\tepsilon:0.9999600000000002\n",
      "Episode: 4100\tAverage Score: 0.002800000049173832\tepsilon:0.9999500000000002\n",
      "Episode: 4200\tAverage Score: 0.0029000000469386576\tepsilon:0.9999500000000002\n",
      "Episode: 4300\tAverage Score: 0.003700000066310167\tepsilon:0.9999500000000002\n",
      "Episode: 4400\tAverage Score: 0.005600000098347664\tepsilon:0.9999500000000002\n",
      "Episode: 4500\tAverage Score: 0.004800000078976154\tepsilon:0.9999500000000002\n",
      "Episode: 4600\tAverage Score: 0.003900000061839819\tepsilon:0.9999500000000002\n",
      "Episode: 4700\tAverage Score: 0.006600000113248825\tepsilon:0.9999500000000002\n",
      "Episode: 4800\tAverage Score: 0.0019000000320374966\tepsilon:0.9999500000000002\n",
      "Episode: 4900\tAverage Score: 0.006600000113248825\tepsilon:0.9999500000000002\n",
      "Episode: 5000\tAverage Score: 0.0020000000298023225\tepsilon:0.9999500000000002\n",
      "Episode: 5100\tAverage Score: 0.0\tepsilon:0.9999400000000003\n",
      "Episode: 5200\tAverage Score: 0.0019000000320374966\tepsilon:0.9999400000000003\n",
      "Episode: 5300\tAverage Score: 0.00570000009611249\tepsilon:0.9999400000000003\n",
      "Episode: 5400\tAverage Score: 0.0\tepsilon:0.9999400000000003\n",
      "Episode: 5500\tAverage Score: 0.0019000000320374966\tepsilon:0.9999400000000003\n",
      "Episode: 5600\tAverage Score: 0.0009000000171363354\tepsilon:0.9999400000000003\n",
      "Episode: 5700\tAverage Score: 0.0009000000171363354\tepsilon:0.9999400000000003\n",
      "Episode: 5800\tAverage Score: 0.003900000061839819\tepsilon:0.9999400000000003\n",
      "Episode: 5900\tAverage Score: 0.0010000000149011613\tepsilon:0.9999400000000003\n",
      "Episode: 6000\tAverage Score: 0.002900000065565109\tepsilon:0.9999400000000003\n",
      "Episode: 6100\tAverage Score: 0.002800000049173832\tepsilon:0.9999300000000003\n",
      "Episode: 6200\tAverage Score: 0.002800000049173832\tepsilon:0.9999300000000003\n",
      "Episode: 6300\tAverage Score: 0.0019000000320374966\tepsilon:0.9999300000000003\n",
      "Episode: 6400\tAverage Score: 0.0009000000171363354\tepsilon:0.9999300000000003\n",
      "Episode: 6500\tAverage Score: 0.0029000000469386576\tepsilon:0.9999300000000003\n",
      "Episode: 6600\tAverage Score: 0.0\tepsilon:0.9999300000000003\n",
      "Episode: 6700\tAverage Score: 0.002700000051409006\tepsilon:0.9999300000000003\n",
      "Episode: 6800\tAverage Score: 0.0\tepsilon:0.9999300000000003\n",
      "Episode: 6900\tAverage Score: 0.0009000000171363354\tepsilon:0.9999300000000003\n",
      "Episode: 7000\tAverage Score: 0.0019000000320374966\tepsilon:0.9999300000000003\n",
      "Episode: 7100\tAverage Score: 0.0029000000469386576\tepsilon:0.9999200000000004\n",
      "Episode: 7200\tAverage Score: 0.0010000000149011613\tepsilon:0.9999200000000004\n",
      "Episode: 7300\tAverage Score: 0.0009000000171363354\tepsilon:0.9999200000000004\n",
      "Episode: 7400\tAverage Score: 0.0010000000149011613\tepsilon:0.9999200000000004\n",
      "Episode: 7500\tAverage Score: 0.0020000000298023225\tepsilon:0.9999200000000004\n",
      "Episode: 7600\tAverage Score: 0.0029000000469386576\tepsilon:0.9999200000000004\n",
      "Episode: 7700\tAverage Score: 0.0019000000320374966\tepsilon:0.9999200000000004\n",
      "Episode: 7800\tAverage Score: 0.0020000000298023225\tepsilon:0.9999200000000004\n",
      "Episode: 7900\tAverage Score: 0.0\tepsilon:0.9999200000000004\n",
      "Episode: 8000\tAverage Score: 0.0010000000149011613\tepsilon:0.9999200000000004\n",
      "Episode: 8100\tAverage Score: 0.0\tepsilon:0.9999100000000004\n",
      "Episode: 8200\tAverage Score: 0.0020000000298023225\tepsilon:0.9999100000000004\n",
      "Episode: 8300\tAverage Score: 0.0020000000298023225\tepsilon:0.9999100000000004\n",
      "Episode: 8400\tAverage Score: 0.002800000049173832\tepsilon:0.9999100000000004\n",
      "Episode: 8500\tAverage Score: 0.0\tepsilon:0.9999100000000004\n",
      "Episode: 8600\tAverage Score: 0.0010000000149011613\tepsilon:0.9999100000000004\n",
      "Episode: 8700\tAverage Score: 0.0018000000342726708\tepsilon:0.9999100000000004\n",
      "Episode: 8800\tAverage Score: 0.0\tepsilon:0.9999100000000004\n",
      "Episode: 8900\tAverage Score: 0.0\tepsilon:0.9999100000000004\n",
      "Episode: 9000\tAverage Score: 0.003700000066310167\tepsilon:0.9999100000000004\n",
      "Episode: 9100\tAverage Score: 0.0010000000149011613\tepsilon:0.9999000000000005\n",
      "Episode: 9200\tAverage Score: 0.0018000000342726708\tepsilon:0.9999000000000005\n",
      "Episode: 9300\tAverage Score: 0.0\tepsilon:0.9999000000000005\n",
      "Episode: 9400\tAverage Score: 0.0\tepsilon:0.9999000000000005\n",
      "Episode: 9500\tAverage Score: 0.0019000000320374966\tepsilon:0.9999000000000005\n",
      "Episode: 9600\tAverage Score: 0.0\tepsilon:0.9999000000000005\n",
      "Episode: 9700\tAverage Score: 0.0010000000149011613\tepsilon:0.9999000000000005\n",
      "Episode: 9800\tAverage Score: 0.0\tepsilon:0.9999000000000005\n",
      "Episode: 9900\tAverage Score: 0.0\tepsilon:0.9999000000000005\n",
      "Episode: 9999\tAverage Score: 0.09000000171363354"
     ]
    }
   ],
   "source": [
    "def run(episodes,experiment_name, epsilon_start=1.0, epsilon_min=0.05, epsilon_decay=0.955, max_score = 30.):\n",
    "    device = torch.device(\"cuda:0\" if torch.cuda.is_available() else \"cpu\")\n",
    "    \n",
    "    tb_writer = SummaryWriter('{}/{}'.format('logs',experiment_name))\n",
    "\n",
    "    agent = MADDPG(num_agents=num_agents, state_size=state_size, action_size=action_size, capacity=int(1e5),\n",
    "                   batch_size=600,learning_rate=0.0001, update_rate=10,gamma=0.995, tau=0.001, \n",
    "                   device=device, seed=10, epsilon= epsilon_start)\n",
    "    score_window = deque(maxlen=100)\n",
    "    all_scores = []\n",
    "    \n",
    "    epsilon_start=1.0 \n",
    "    epsilon_min=0.01 \n",
    "    epsilon_decay=1e-5\n",
    "    epsilon = epsilon_start\n",
    "    for episode in range(episodes):\n",
    "        agent.reset()\n",
    "        scores = np.zeros(num_agents) \n",
    "        dones = np.zeros((num_agents), dtype=bool)\n",
    "        env_info = env.reset(train_mode=True)[brain_name]\n",
    "        states = env_info.vector_observations \n",
    "        episode_score =0.\n",
    "        while not np.any(dones):\n",
    "            actions = agent.act(states, epsilon)\n",
    "#             all actions between -1 and 1\n",
    "            actions = np.clip(actions, -1, 1).cpu().numpy() \n",
    "    \n",
    "            env_info = env.step(actions)[brain_name]           # send all actions to tne environment\n",
    "            next_states = env_info.vector_observations         # get next state (for each agent)\n",
    "            rewards = np.array(env_info.rewards).reshape(2,1)                         # get reward (for each agent)\n",
    "            dones = np.array(env_info.local_done).reshape(2,1)                        # see if episode finished\n",
    "\n",
    "            scores += env_info.rewards                    # update the score (for each agent)\n",
    "#             print(states.shape, actions.shape, rewards.shape, next_states.shape, dones.shape)\n",
    "            agent.step(states, actions, rewards, next_states, dones)\n",
    "            states = next_states\n",
    "            \n",
    "#         agent.step_ +=1\n",
    "        episode_score = np.max(scores)\n",
    "        score_window.append(episode_score)\n",
    "        all_scores.append(episode_score)\n",
    "        \n",
    "        #decay after each episode\n",
    "        \n",
    "            \n",
    "        print('\\rEpisode: {}\\tAverage Score: {}'.format(episode, episode_score), end=\"\")\n",
    "        if episode % 100 == 0:\n",
    "            \n",
    "            print('\\rEpisode: {}\\tAverage Score: {}\\tepsilon:{}'.format(episode, np.average(score_window), epsilon))\n",
    "            tb_writer.add_scalar('Episode_Accum_score', np.mean(score_window), episode)\n",
    "        if episode % 1000==0:\n",
    "#             epsilon = max(epsilon_min, epsilon*epsilon_decay)\n",
    "            epsilon -= epsilon_decay\n",
    "            epsilon = max(epsilon_min,epsilon)\n",
    "#         if np.mean(score_window) >= max_score:\n",
    "#             torch.save(agent.actor_local_network.state_dict(), 'actor_checkpoint.pth')\n",
    "#             torch.save(agent.critic_local_network.state_dict(), 'critic_checkpoint.pth')\n",
    "#             break\n",
    "            \n",
    "run(10000, experiment_name=\"test\" )"
   ]
  },
  {
   "cell_type": "code",
   "execution_count": 8,
   "metadata": {},
   "outputs": [
    {
     "ename": "TypeError",
     "evalue": "zip argument #1 must support iteration",
     "output_type": "error",
     "traceback": [
      "\u001b[0;31m---------------------------------------------------------------------------\u001b[0m",
      "\u001b[0;31mTypeError\u001b[0m                                 Traceback (most recent call last)",
      "\u001b[0;32m<ipython-input-8-3df7515b14df>\u001b[0m in \u001b[0;36m<module>\u001b[0;34m\u001b[0m\n\u001b[1;32m      1\u001b[0m \u001b[0mmylist\u001b[0m \u001b[0;34m=\u001b[0m \u001b[0;34m[\u001b[0m\u001b[0;36m1\u001b[0m\u001b[0;34m,\u001b[0m\u001b[0;36m2\u001b[0m\u001b[0;34m,\u001b[0m\u001b[0;36m3\u001b[0m\u001b[0;34m,\u001b[0m\u001b[0;36m4\u001b[0m\u001b[0;34m]\u001b[0m\u001b[0;34m\u001b[0m\u001b[0m\n\u001b[0;32m----> 2\u001b[0;31m \u001b[0mmy_list2\u001b[0m \u001b[0;34m=\u001b[0m \u001b[0mlist\u001b[0m\u001b[0;34m(\u001b[0m\u001b[0mmap\u001b[0m\u001b[0;34m(\u001b[0m\u001b[0mlist\u001b[0m\u001b[0;34m,\u001b[0m \u001b[0mzip\u001b[0m\u001b[0;34m(\u001b[0m\u001b[0;34m*\u001b[0m\u001b[0mmylist\u001b[0m\u001b[0;34m)\u001b[0m\u001b[0;34m)\u001b[0m\u001b[0;34m)\u001b[0m\u001b[0;34m\u001b[0m\u001b[0m\n\u001b[0m",
      "\u001b[0;31mTypeError\u001b[0m: zip argument #1 must support iteration"
     ]
    }
   ],
   "source": [
    "mylist = [1,2,3,4]\n",
    "my_list2 = list(map(list, zip(*mylist)))"
   ]
  },
  {
   "cell_type": "code",
   "execution_count": null,
   "metadata": {},
   "outputs": [],
   "source": []
  }
 ],
 "metadata": {
  "kernelspec": {
   "display_name": "Python 3",
   "language": "python",
   "name": "python3"
  },
  "language_info": {
   "codemirror_mode": {
    "name": "ipython",
    "version": 3
   },
   "file_extension": ".py",
   "mimetype": "text/x-python",
   "name": "python",
   "nbconvert_exporter": "python",
   "pygments_lexer": "ipython3",
   "version": "3.6.6"
  }
 },
 "nbformat": 4,
 "nbformat_minor": 2
}

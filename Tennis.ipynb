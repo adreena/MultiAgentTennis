{
 "cells": [
  {
   "cell_type": "markdown",
   "metadata": {},
   "source": [
    "# Collaboration and Competition\n",
    "\n",
    "---\n",
    "\n",
    "In this notebook, you will learn how to use the Unity ML-Agents environment for the third project of the [Deep Reinforcement Learning Nanodegree](https://www.udacity.com/course/deep-reinforcement-learning-nanodegree--nd893) program.\n",
    "\n",
    "### 1. Start the Environment\n",
    "\n",
    "We begin by importing the necessary packages.  If the code cell below returns an error, please revisit the project instructions to double-check that you have installed [Unity ML-Agents](https://github.com/Unity-Technologies/ml-agents/blob/master/docs/Installation.md) and [NumPy](http://www.numpy.org/)."
   ]
  },
  {
   "cell_type": "code",
   "execution_count": 1,
   "metadata": {},
   "outputs": [],
   "source": [
    "from unityagents import UnityEnvironment\n",
    "import numpy as np\n",
    "import torch\n",
    "from collections import deque, namedtuple\n",
    "from tensorboardX import SummaryWriter\n",
    "from ddpg_agent import DDPG\n",
    "import torch.nn.functional as F\n",
    "import matplotlib.pyplot as plt"
   ]
  },
  {
   "cell_type": "markdown",
   "metadata": {},
   "source": [
    "Next, we will start the environment!  **_Before running the code cell below_**, change the `file_name` parameter to match the location of the Unity environment that you downloaded.\n",
    "\n",
    "- **Mac**: `\"path/to/Tennis.app\"`\n",
    "- **Windows** (x86): `\"path/to/Tennis_Windows_x86/Tennis.exe\"`\n",
    "- **Windows** (x86_64): `\"path/to/Tennis_Windows_x86_64/Tennis.exe\"`\n",
    "- **Linux** (x86): `\"path/to/Tennis_Linux/Tennis.x86\"`\n",
    "- **Linux** (x86_64): `\"path/to/Tennis_Linux/Tennis.x86_64\"`\n",
    "- **Linux** (x86, headless): `\"path/to/Tennis_Linux_NoVis/Tennis.x86\"`\n",
    "- **Linux** (x86_64, headless): `\"path/to/Tennis_Linux_NoVis/Tennis.x86_64\"`\n",
    "\n",
    "For instance, if you are using a Mac, then you downloaded `Tennis.app`.  If this file is in the same folder as the notebook, then the line below should appear as follows:\n",
    "```\n",
    "env = UnityEnvironment(file_name=\"Tennis.app\")\n",
    "```"
   ]
  },
  {
   "cell_type": "code",
   "execution_count": 2,
   "metadata": {},
   "outputs": [
    {
     "name": "stderr",
     "output_type": "stream",
     "text": [
      "INFO:unityagents:\n",
      "'Academy' started successfully!\n",
      "Unity Academy name: Academy\n",
      "        Number of Brains: 1\n",
      "        Number of External Brains : 1\n",
      "        Lesson number : 0\n",
      "        Reset Parameters :\n",
      "\t\t\n",
      "Unity brain name: TennisBrain\n",
      "        Number of Visual Observations (per agent): 0\n",
      "        Vector Observation space type: continuous\n",
      "        Vector Observation space size (per agent): 8\n",
      "        Number of stacked Vector Observation: 3\n",
      "        Vector Action space type: continuous\n",
      "        Vector Action space size (per agent): 2\n",
      "        Vector Action descriptions: , \n"
     ]
    }
   ],
   "source": [
    "env = UnityEnvironment(file_name=\"Tennis_Linux/Tennis.x86_64\")"
   ]
  },
  {
   "cell_type": "markdown",
   "metadata": {},
   "source": [
    "Environments contain **_brains_** which are responsible for deciding the actions of their associated agents. Here we check for the first brain available, and set it as the default brain we will be controlling from Python."
   ]
  },
  {
   "cell_type": "code",
   "execution_count": 3,
   "metadata": {},
   "outputs": [],
   "source": [
    "# get the default brain\n",
    "brain_name = env.brain_names[0]\n",
    "brain = env.brains[brain_name]"
   ]
  },
  {
   "cell_type": "markdown",
   "metadata": {},
   "source": [
    "### 2. Examine the State and Action Spaces\n",
    "\n",
    "In this environment, two agents control rackets to bounce a ball over a net. If an agent hits the ball over the net, it receives a reward of +0.1.  If an agent lets a ball hit the ground or hits the ball out of bounds, it receives a reward of -0.01.  Thus, the goal of each agent is to keep the ball in play.\n",
    "\n",
    "The observation space consists of 8 variables corresponding to the position and velocity of the ball and racket. Two continuous actions are available, corresponding to movement toward (or away from) the net, and jumping. \n",
    "\n",
    "Run the code cell below to print some information about the environment."
   ]
  },
  {
   "cell_type": "code",
   "execution_count": 4,
   "metadata": {},
   "outputs": [
    {
     "name": "stdout",
     "output_type": "stream",
     "text": [
      "Number of agents: 2\n",
      "Size of each action: 2\n",
      "There are 2 agents. Each observes a state with length: 24\n",
      "The state for the first agent looks like: [ 0.          0.          0.          0.          0.          0.\n",
      "  0.          0.          0.          0.          0.          0.\n",
      "  0.          0.          0.          0.         -6.65278625 -1.5\n",
      " -0.          0.          6.83172083  6.         -0.          0.        ]\n"
     ]
    }
   ],
   "source": [
    "# reset the environment\n",
    "env_info = env.reset(train_mode=True)[brain_name]\n",
    "\n",
    "# number of agents \n",
    "num_agents = len(env_info.agents)\n",
    "print('Number of agents:', num_agents)\n",
    "\n",
    "# size of each action\n",
    "action_size = brain.vector_action_space_size\n",
    "print('Size of each action:', action_size)\n",
    "\n",
    "# examine the state space \n",
    "states = env_info.vector_observations\n",
    "state_size = states.shape[1]\n",
    "print('There are {} agents. Each observes a state with length: {}'.format(states.shape[0], state_size))\n",
    "print('The state for the first agent looks like:', states[0])"
   ]
  },
  {
   "cell_type": "markdown",
   "metadata": {},
   "source": [
    "### 3. Take Random Actions in the Environment\n",
    "\n",
    "In the next code cell, you will learn how to use the Python API to control the agents and receive feedback from the environment.\n",
    "\n",
    "Once this cell is executed, you will watch the agents' performance, if they select actions at random with each time step.  A window should pop up that allows you to observe the agents.\n",
    "\n",
    "Of course, as part of the project, you'll have to change the code so that the agents are able to use their experiences to gradually choose better actions when interacting with the environment!"
   ]
  },
  {
   "cell_type": "code",
   "execution_count": 5,
   "metadata": {},
   "outputs": [],
   "source": [
    "# for i in range(1, 6):                                      # play game for 5 episodes\n",
    "#     env_info = env.reset(train_mode=False)[brain_name]     # reset the environment    \n",
    "#     states = env_info.vector_observations                  # get the current state (for each agent)\n",
    "#     scores = np.zeros(num_agents)                          # initialize the score (for each agent)\n",
    "#     while True:\n",
    "#         actions = np.random.randn(num_agents, action_size) # select an action (for each agent)\n",
    "#         print(actions.shape)\n",
    "#         actions = np.clip(actions, -1, 1)                  # all actions between -1 and 1\n",
    "#         print('actions', actions)\n",
    "#         env_info = env.step(actions)[brain_name]           # send all actions to tne environment\n",
    "#         next_states = env_info.vector_observations         # get next state (for each agent)\n",
    "#         print('next_states',next_states.shape)\n",
    "        \n",
    "#         rewards = env_info.rewards                         # get reward (for each agent)\n",
    "#         dones = env_info.local_done                        # see if episode finished\n",
    "#         print('rewards',rewards.shape)\n",
    "#         print('dones',dones.shape)\n",
    "#         scores += env_info.rewards                         # update the score (for each agent)\n",
    "#         states = next_states                               # roll over states to next time step\n",
    "#         if np.any(dones):                                  # exit loop if episode finished\n",
    "#             break\n",
    "#         break\n",
    "#     print('Score (max over agents) from episode {}: {}'.format(i, np.max(scores)))"
   ]
  },
  {
   "cell_type": "markdown",
   "metadata": {},
   "source": [
    "When finished, you can close the environment."
   ]
  },
  {
   "cell_type": "code",
   "execution_count": 6,
   "metadata": {},
   "outputs": [],
   "source": [
    "# env.close()"
   ]
  },
  {
   "cell_type": "markdown",
   "metadata": {},
   "source": [
    "### 4. It's Your Turn!\n",
    "\n",
    "Now it's your turn to train your own agent to solve the environment!  When training the environment, set `train_mode=True`, so that the line for resetting the environment looks like the following:\n",
    "```python\n",
    "env_info = env.reset(train_mode=True)[brain_name]\n",
    "```"
   ]
  },
  {
   "cell_type": "code",
   "execution_count": 7,
   "metadata": {},
   "outputs": [
    {
     "name": "stdout",
     "output_type": "stream",
     "text": [
      "cpu\n",
      "Episode:100\tAverage Score:0.00\tEpisode Score: 0.00\n",
      "Episode:200\tAverage Score:0.00\tEpisode Score: 0.00\n",
      "Episode:300\tAverage Score:0.00\tEpisode Score: 0.00\n",
      "Episode:400\tAverage Score:0.00\tEpisode Score: 0.00\n",
      "Episode:500\tAverage Score:0.00\tEpisode Score: 0.00\n",
      "Episode:600\tAverage Score:0.01\tEpisode Score: 0.00\n",
      "Episode:700\tAverage Score:0.08\tEpisode Score: 0.00\n",
      "Episode:800\tAverage Score:0.08\tEpisode Score: 0.00\n",
      "Episode:900\tAverage Score:0.07\tEpisode Score: 0.10\n",
      "Episode:1000\tAverage Score:0.06\tEpisode Score: 0.00\n",
      "Episode:1100\tAverage Score:0.07\tEpisode Score: 0.00\n",
      "Episode:1200\tAverage Score:0.08\tEpisode Score: 0.10\n",
      "Episode:1300\tAverage Score:0.08\tEpisode Score: 0.10\n",
      "Episode:1400\tAverage Score:0.08\tEpisode Score: 0.00\n",
      "Episode:1500\tAverage Score:0.05\tEpisode Score: 0.00\n",
      "Episode:1600\tAverage Score:0.04\tEpisode Score: 0.00\n",
      "Episode:1700\tAverage Score:0.08\tEpisode Score: 0.10\n",
      "Episode:1800\tAverage Score:0.09\tEpisode Score: 0.00\n",
      "Episode:1900\tAverage Score:0.11\tEpisode Score: 0.20\n",
      "Episode:2000\tAverage Score:0.11\tEpisode Score: 0.00\n",
      "Episode:2100\tAverage Score:0.13\tEpisode Score: 0.30\n",
      "Episode:2200\tAverage Score:0.15\tEpisode Score: 0.10\n",
      "Episode:2300\tAverage Score:0.20\tEpisode Score: 0.30\n",
      "Episode:2400\tAverage Score:0.20\tEpisode Score: 0.20\n",
      "Episode:2500\tAverage Score:0.19\tEpisode Score: 0.10\n",
      "Episode:2600\tAverage Score:0.23\tEpisode Score: 0.30\n",
      "Episode:2700\tAverage Score:0.26\tEpisode Score: 0.10\n",
      "Episode:2800\tAverage Score:0.19\tEpisode Score: 0.30\n",
      "Episode:2900\tAverage Score:0.24\tEpisode Score: 0.30\n",
      "Episode:3000\tAverage Score:0.24\tEpisode Score: 0.30\n",
      "Episode:3100\tAverage Score:0.27\tEpisode Score: 0.00\n",
      "Episode:3200\tAverage Score:0.26\tEpisode Score: 0.30\n",
      "Episode:3300\tAverage Score:0.28\tEpisode Score: 0.30\n",
      "Episode:3400\tAverage Score:0.28\tEpisode Score: 0.30\n",
      "Episode:3500\tAverage Score:0.22\tEpisode Score: 0.10\n",
      "Episode:3600\tAverage Score:0.27\tEpisode Score: 0.00\n",
      "Episode:3700\tAverage Score:0.44\tEpisode Score: 0.30\n",
      "Episode:3733\taverage_score:0.76\tEpisode Score: 0.30"
     ]
    }
   ],
   "source": [
    "def run_maddpg(episodes, agent,experiment_name):\n",
    "\n",
    "    max_steps = 1000\n",
    "    device = torch.device(\"cuda:0\" if torch.cuda.is_available() else \"cpu\")\n",
    "    print(device)\n",
    "    BUFFER_SIZE = int(1e5) # int(1e6) # int(1e5)  # replay buffer size  ?\n",
    "    BATCH_SIZE = 64 # 128 # 64 # 256        # minibatch size for training\n",
    "    GAMMA = 0.99            # discount factor\n",
    "    TAU = 1e-3              # for soft update of target parameters\n",
    "    LR_ACTOR = 5e-4 # 1e-3 # 1e-4 # 5e-4 # 1e-4 # 0.001 # 1e-4         # learning rate of the actor \n",
    "    LR_CRITIC = 6e-4 # 3e-3 # 3e-4  # 6e-4 # 3e-4  # 3e-3 # 0.001 # 3e-4        # learning rate of the critic 0.001\n",
    "    WEIGHT_DECAY = 0.0001   # L2 weight decay\n",
    "    # Number of neurons in the layers of the Actor & Critic Networks\n",
    "\n",
    "    tb_writer = SummaryWriter('{}/{}'.format('logs',experiment_name))\n",
    "\n",
    "    scores_window = deque(maxlen=100)\n",
    "    steps_window = deque(maxlen=100)\n",
    "    scores = []\n",
    "    max_score = 0.5\n",
    "    best_score = None\n",
    "    episode_count = 1\n",
    "    for episode in range(1, episodes+1):\n",
    "        episode_count = episode\n",
    "        env_info = env.reset(train_mode=True)[brain_name]     # reset the environment    \n",
    "        states = env_info.vector_observations                 # get the current state (for each agent)\n",
    "        agent.reset()\n",
    "        episode_score = 0\n",
    "        step_count = 0\n",
    "        dones = np.zeros((num_agents), dtype=bool)\n",
    "        while not np.any(dones) and step_count< max_steps :\n",
    "            actions=[]\n",
    "            for i in range(num_agents):\n",
    "                action = agent.act(states[i])\n",
    "                actions.append(action)\n",
    "            env_info = env.step(actions)[brain_name]           # send all actions to tne environment\n",
    "            next_states = env_info.vector_observations         # get next state (for each agent)\n",
    "            rewards =  env_info.rewards                        # get reward (for each agent)\n",
    "            dones = env_info.local_done                        # see if episode finished\n",
    "            for i in range(num_agents):\n",
    "                agent.step(states[i], actions[i], rewards[i], next_states[i], dones[i])\n",
    "            states = next_states                               # roll over states to next time step\n",
    "            episode_score += np.max(env_info.rewards)\n",
    "            step_count += 1\n",
    "            \n",
    "        scores_window.append(episode_score)\n",
    "        scores.append(episode_score)\n",
    "        \n",
    "        avg_score = np.mean(scores_window)\n",
    "        print('\\rEpisode:{}\\taverage_score:{:.2f}\\tEpisode Score: {:.2f}'.format(episode, avg_score, episode_score),end=\"\")\n",
    "        if episode % 100 == 0 :\n",
    "            print('\\rEpisode:{}\\tAverage Score:{:.2f}'.format(episode, avg_score))  \n",
    "        if  avg_score >= max_score:\n",
    "            save_model = False\n",
    "            if best_score is None:\n",
    "                best_score = avg_score\n",
    "                save_model = True\n",
    "            else:\n",
    "                if avg_score > best_score:\n",
    "                    best_score = avg_score\n",
    "                    save_model = True\n",
    "                else:\n",
    "                    break\n",
    "            if save_model is True:\n",
    "                torch.save(agent.actor.state_dict(), 'actor_checkpoint.pth')\n",
    "                torch.save(agent.critic.state_dict(), 'critic_checkpoint.pth')\n",
    "    return scores, best_score, episode_count\n",
    "           \n",
    "agent = DDPG(state_size=state_size, action_size=action_size, seed=42, device = device,\\\n",
    "                buffer_size=BUFFER_SIZE, batch_size=BATCH_SIZE, actor_learrning_rate=LR_ACTOR,\\\n",
    "                critic_learning_rate=LR_CRITIC,gamma=GAMMA, tau=TAU, optimizer_weight_decay=WEIGHT_DECAY)\n",
    "scores, best_score, episode_count = run_maddpg(10000, agent, experiment_name=\"test\" )"
   ]
  },
  {
   "cell_type": "markdown",
   "metadata": {},
   "source": [
    "### Experiment 1"
   ]
  },
  {
   "cell_type": "code",
   "execution_count": 19,
   "metadata": {},
   "outputs": [
    {
     "name": "stdout",
     "output_type": "stream",
     "text": [
      "Actor Network: Actor(\n",
      "  (fc1): Linear(in_features=24, out_features=64, bias=True)\n",
      "  (fc2): Linear(in_features=64, out_features=32, bias=True)\n",
      "  (fc3): Linear(in_features=32, out_features=2, bias=True)\n",
      ")\n",
      "Critic Network: Critic(\n",
      "  (fc1): Linear(in_features=24, out_features=64, bias=True)\n",
      "  (fc2): Linear(in_features=66, out_features=32, bias=True)\n",
      "  (fc3): Linear(in_features=32, out_features=1, bias=True)\n",
      ")\n",
      "Best score: 0.7580000112950802\n"
     ]
    },
    {
     "data": {
      "image/png": "[encoded data removed]",
      "text/plain": [
       "<Figure size 432x288 with 1 Axes>"
      ]
     },
     "metadata": {
      "needs_background": "light"
     },
     "output_type": "display_data"
    }
   ],
   "source": [
    "'''\n",
    "Actor Network: Actor(\n",
    "  (fc1): Linear(in_features=24, out_features=64, bias=True)\n",
    "  (fc2): Linear(in_features=64, out_features=32, bias=True)\n",
    "  (fc3): Linear(in_features=32, out_features=2, bias=True)\n",
    ")\n",
    "Critic Network: Critic(\n",
    "  (fc1): Linear(in_features=24, out_features=64, bias=True)\n",
    "  (fc2): Linear(in_features=66, out_features=32, bias=True)\n",
    "  (fc3): Linear(in_features=32, out_features=1, bias=True)\n",
    ")\n",
    "'''\n",
    "\n",
    "print('Actor Network:',agent.actor)\n",
    "print('Critic Network:',agent.critic)\n",
    "print('Best score:', best_score)\n",
    "print('Ended in {} of episodes.'.format(3733))\n",
    "fig = plt.figure()\n",
    "ax = fig.add_subplot(111)\n",
    "plt.plot(np.arange(len(scores)),scores)\n",
    "plt.xlabel('Episode ')\n",
    "plt.ylabel('Score')\n",
    "plt.show()\n"
   ]
  },
  {
   "cell_type": "code",
   "execution_count": 17,
   "metadata": {},
   "outputs": [
    {
     "name": "stdout",
     "output_type": "stream",
     "text": [
      "cpu\n"
     ]
    }
   ],
   "source": []
  },
  {
   "cell_type": "code",
   "execution_count": 18,
   "metadata": {},
   "outputs": [],
   "source": [
    "   "
   ]
  },
  {
   "cell_type": "code",
   "execution_count": null,
   "metadata": {},
   "outputs": [],
   "source": []
  },
  {
   "cell_type": "code",
   "execution_count": null,
   "metadata": {},
   "outputs": [],
   "source": []
  },
  {
   "cell_type": "code",
   "execution_count": null,
   "metadata": {},
   "outputs": [],
   "source": [
    "env_info.local_done "
   ]
  },
  {
   "cell_type": "code",
   "execution_count": null,
   "metadata": {},
   "outputs": [],
   "source": []
  }
 ],
 "metadata": {
  "kernelspec": {
   "display_name": "Python 3",
   "language": "python",
   "name": "python3"
  },
  "language_info": {
   "codemirror_mode": {
    "name": "ipython",
    "version": 3
   },
   "file_extension": ".py",
   "mimetype": "text/x-python",
   "name": "python",
   "nbconvert_exporter": "python",
   "pygments_lexer": "ipython3",
   "version": "3.6.6"
  }
 },
 "nbformat": 4,
 "nbformat_minor": 2
}

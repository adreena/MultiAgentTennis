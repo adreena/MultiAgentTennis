{
 "cells": [
  {
   "cell_type": "markdown",
   "metadata": {},
   "source": [
    "# Collaboration and Competition\n",
    "\n",
    "---\n",
    "\n",
    "In this notebook, you will learn how to use the Unity ML-Agents environment for the third project of the [Deep Reinforcement Learning Nanodegree](https://www.udacity.com/course/deep-reinforcement-learning-nanodegree--nd893) program.\n",
    "\n",
    "### 1. Start the Environment\n",
    "\n",
    "We begin by importing the necessary packages.  If the code cell below returns an error, please revisit the project instructions to double-check that you have installed [Unity ML-Agents](https://github.com/Unity-Technologies/ml-agents/blob/master/docs/Installation.md) and [NumPy](http://www.numpy.org/)."
   ]
  },
  {
   "cell_type": "code",
   "execution_count": 1,
   "metadata": {},
   "outputs": [],
   "source": [
    "from unityagents import UnityEnvironment\n",
    "import numpy as np\n",
    "import torch\n",
    "from collections import deque, namedtuple\n",
    "from tensorboardX import SummaryWriter\n",
    "# from maddpg_agent import MADDPG\n",
    "from ddpg_agent import DDPG\n",
    "import torch.nn.functional as F"
   ]
  },
  {
   "cell_type": "markdown",
   "metadata": {},
   "source": [
    "Next, we will start the environment!  **_Before running the code cell below_**, change the `file_name` parameter to match the location of the Unity environment that you downloaded.\n",
    "\n",
    "- **Mac**: `\"path/to/Tennis.app\"`\n",
    "- **Windows** (x86): `\"path/to/Tennis_Windows_x86/Tennis.exe\"`\n",
    "- **Windows** (x86_64): `\"path/to/Tennis_Windows_x86_64/Tennis.exe\"`\n",
    "- **Linux** (x86): `\"path/to/Tennis_Linux/Tennis.x86\"`\n",
    "- **Linux** (x86_64): `\"path/to/Tennis_Linux/Tennis.x86_64\"`\n",
    "- **Linux** (x86, headless): `\"path/to/Tennis_Linux_NoVis/Tennis.x86\"`\n",
    "- **Linux** (x86_64, headless): `\"path/to/Tennis_Linux_NoVis/Tennis.x86_64\"`\n",
    "\n",
    "For instance, if you are using a Mac, then you downloaded `Tennis.app`.  If this file is in the same folder as the notebook, then the line below should appear as follows:\n",
    "```\n",
    "env = UnityEnvironment(file_name=\"Tennis.app\")\n",
    "```"
   ]
  },
  {
   "cell_type": "code",
   "execution_count": 2,
   "metadata": {},
   "outputs": [
    {
     "name": "stderr",
     "output_type": "stream",
     "text": [
      "INFO:unityagents:\n",
      "'Academy' started successfully!\n",
      "Unity Academy name: Academy\n",
      "        Number of Brains: 1\n",
      "        Number of External Brains : 1\n",
      "        Lesson number : 0\n",
      "        Reset Parameters :\n",
      "\t\t\n",
      "Unity brain name: TennisBrain\n",
      "        Number of Visual Observations (per agent): 0\n",
      "        Vector Observation space type: continuous\n",
      "        Vector Observation space size (per agent): 8\n",
      "        Number of stacked Vector Observation: 3\n",
      "        Vector Action space type: continuous\n",
      "        Vector Action space size (per agent): 2\n",
      "        Vector Action descriptions: , \n"
     ]
    }
   ],
   "source": [
    "env = UnityEnvironment(file_name=\"Tennis_Linux/Tennis.x86_64\", no_graphics=True)"
   ]
  },
  {
   "cell_type": "markdown",
   "metadata": {},
   "source": [
    "Environments contain **_brains_** which are responsible for deciding the actions of their associated agents. Here we check for the first brain available, and set it as the default brain we will be controlling from Python."
   ]
  },
  {
   "cell_type": "code",
   "execution_count": 3,
   "metadata": {},
   "outputs": [],
   "source": [
    "# get the default brain\n",
    "brain_name = env.brain_names[0]\n",
    "brain = env.brains[brain_name]"
   ]
  },
  {
   "cell_type": "markdown",
   "metadata": {},
   "source": [
    "### 2. Examine the State and Action Spaces\n",
    "\n",
    "In this environment, two agents control rackets to bounce a ball over a net. If an agent hits the ball over the net, it receives a reward of +0.1.  If an agent lets a ball hit the ground or hits the ball out of bounds, it receives a reward of -0.01.  Thus, the goal of each agent is to keep the ball in play.\n",
    "\n",
    "The observation space consists of 8 variables corresponding to the position and velocity of the ball and racket. Two continuous actions are available, corresponding to movement toward (or away from) the net, and jumping. \n",
    "\n",
    "Run the code cell below to print some information about the environment."
   ]
  },
  {
   "cell_type": "code",
   "execution_count": 4,
   "metadata": {},
   "outputs": [
    {
     "name": "stdout",
     "output_type": "stream",
     "text": [
      "Number of agents: 2\n",
      "Size of each action: 2\n",
      "There are 2 agents. Each observes a state with length: 24\n",
      "The state for the first agent looks like: [ 0.          0.          0.          0.          0.          0.\n",
      "  0.          0.          0.          0.          0.          0.\n",
      "  0.          0.          0.          0.         -6.65278625 -1.5\n",
      " -0.          0.          6.83172083  6.         -0.          0.        ]\n"
     ]
    }
   ],
   "source": [
    "# reset the environment\n",
    "env_info = env.reset(train_mode=True)[brain_name]\n",
    "\n",
    "# number of agents \n",
    "num_agents = len(env_info.agents)\n",
    "print('Number of agents:', num_agents)\n",
    "\n",
    "# size of each action\n",
    "action_size = brain.vector_action_space_size\n",
    "print('Size of each action:', action_size)\n",
    "\n",
    "# examine the state space \n",
    "states = env_info.vector_observations\n",
    "state_size = states.shape[1]\n",
    "print('There are {} agents. Each observes a state with length: {}'.format(states.shape[0], state_size))\n",
    "print('The state for the first agent looks like:', states[0])"
   ]
  },
  {
   "cell_type": "markdown",
   "metadata": {},
   "source": [
    "### 3. Take Random Actions in the Environment\n",
    "\n",
    "In the next code cell, you will learn how to use the Python API to control the agents and receive feedback from the environment.\n",
    "\n",
    "Once this cell is executed, you will watch the agents' performance, if they select actions at random with each time step.  A window should pop up that allows you to observe the agents.\n",
    "\n",
    "Of course, as part of the project, you'll have to change the code so that the agents are able to use their experiences to gradually choose better actions when interacting with the environment!"
   ]
  },
  {
   "cell_type": "code",
   "execution_count": null,
   "metadata": {},
   "outputs": [],
   "source": [
    "# for i in range(1, 6):                                      # play game for 5 episodes\n",
    "#     env_info = env.reset(train_mode=False)[brain_name]     # reset the environment    \n",
    "#     states = env_info.vector_observations                  # get the current state (for each agent)\n",
    "#     scores = np.zeros(num_agents)                          # initialize the score (for each agent)\n",
    "#     while True:\n",
    "#         actions = np.random.randn(num_agents, action_size) # select an action (for each agent)\n",
    "#         print(actions.shape)\n",
    "#         actions = np.clip(actions, -1, 1)                  # all actions between -1 and 1\n",
    "#         print('actions', actions)\n",
    "#         env_info = env.step(actions)[brain_name]           # send all actions to tne environment\n",
    "#         next_states = env_info.vector_observations         # get next state (for each agent)\n",
    "#         print('next_states',next_states.shape)\n",
    "        \n",
    "#         rewards = env_info.rewards                         # get reward (for each agent)\n",
    "#         dones = env_info.local_done                        # see if episode finished\n",
    "#         print('rewards',rewards.shape)\n",
    "#         print('dones',dones.shape)\n",
    "#         scores += env_info.rewards                         # update the score (for each agent)\n",
    "#         states = next_states                               # roll over states to next time step\n",
    "#         if np.any(dones):                                  # exit loop if episode finished\n",
    "#             break\n",
    "#         break\n",
    "#     print('Score (max over agents) from episode {}: {}'.format(i, np.max(scores)))"
   ]
  },
  {
   "cell_type": "markdown",
   "metadata": {},
   "source": [
    "When finished, you can close the environment."
   ]
  },
  {
   "cell_type": "code",
   "execution_count": null,
   "metadata": {},
   "outputs": [],
   "source": [
    "# env.close()"
   ]
  },
  {
   "cell_type": "markdown",
   "metadata": {},
   "source": [
    "### 4. It's Your Turn!\n",
    "\n",
    "Now it's your turn to train your own agent to solve the environment!  When training the environment, set `train_mode=True`, so that the line for resetting the environment looks like the following:\n",
    "```python\n",
    "env_info = env.reset(train_mode=True)[brain_name]\n",
    "```"
   ]
  },
  {
   "cell_type": "code",
   "execution_count": null,
   "metadata": {},
   "outputs": [
    {
     "name": "stdout",
     "output_type": "stream",
     "text": [
      "Episode: 0\tAverage Score:0.00\tepsilon:2.0\n",
      "Episode: 100\tAverage Score:0.00\tepsilon:1.9960037977209693\n",
      "Episode: 200\tAverage Score:0.00\tepsilon:1.9920155802582658\n",
      "Episode: 300\tAverage Score:0.00\tepsilon:1.9880353316574193\n",
      "Episode: 400\tAverage Score:0.01\tepsilon:1.984063035995838\n",
      "Episode: 500\tAverage Score:0.00\tepsilon:1.9800986773827443\n",
      "Episode: 600\tAverage Score:0.01\tepsilon:1.9761422399591126\n",
      "Episode: 700\tAverage Score:0.01\tepsilon:1.9721937078976057\n",
      "Episode: 800\tAverage Score:0.01\tepsilon:1.9682530654025105\n",
      "Episode: 900\tAverage Score:0.01\tepsilon:1.9643202967096751\n",
      "Episode: 1000\tAverage Score:0.01\tepsilon:1.960395386086446\n",
      "Episode: 1100\tAverage Score:0.00\tepsilon:1.9564783178316059\n",
      "Episode: 1200\tAverage Score:0.00\tepsilon:1.9525690762753096\n",
      "Episode: 1300\tAverage Score:0.01\tepsilon:1.9486676457790213\n",
      "Episode: 1400\tAverage Score:0.01\tepsilon:1.944774010735453\n",
      "Episode: 1500\tAverage Score:0.01\tepsilon:1.940888155568502\n",
      "Episode: 1600\tAverage Score:0.00\tepsilon:1.9370100647331887\n",
      "Episode: 1700\tAverage Score:0.01\tepsilon:1.9331397227155929\n",
      "Episode: 1800\tAverage Score:0.01\tepsilon:1.9292771140327918\n",
      "Episode: 1900\tAverage Score:0.01\tepsilon:1.9254222232328013\n",
      "Episode: 2000\tAverage Score:0.00\tepsilon:1.9215750348945124\n",
      "Episode: 2100\tAverage Score:0.01\tepsilon:1.9177355336276254\n",
      "Episode: 2200\tAverage Score:0.00\tepsilon:1.9139037040725948\n",
      "Episode: 2300\tAverage Score:0.01\tepsilon:1.9100795309005647\n",
      "Episode: 2400\tAverage Score:0.01\tepsilon:1.906262998813307\n",
      "Episode: 2500\tAverage Score:0.01\tepsilon:1.9024540925431621\n",
      "Episode: 2600\tAverage Score:0.01\tepsilon:1.8986527968529756\n",
      "Episode: 2700\tAverage Score:0.00\tepsilon:1.8948590965360392\n",
      "Episode: 2800\tAverage Score:0.00\tepsilon:1.8910729764160288\n",
      "Episode: 2900\tAverage Score:0.01\tepsilon:1.8872944213469451\n",
      "Episode: 3000\tAverage Score:0.00\tepsilon:1.8835234162130503\n",
      "Episode: 3100\tAverage Score:0.00\tepsilon:1.8797599459288112\n",
      "Episode: 3200\tAverage Score:0.00\tepsilon:1.8760039954388357\n",
      "Episode: 3300\tAverage Score:0.01\tepsilon:1.8722555497178135\n",
      "Episode: 3400\tAverage Score:0.00\tepsilon:1.8685145937704581\n",
      "Episode: 3500\tAverage Score:0.01\tepsilon:1.8647811126314444\n",
      "Episode: 3600\tAverage Score:0.00\tepsilon:1.8610550913653487\n",
      "Episode: 3700\tAverage Score:0.00\tepsilon:1.8573365150665906\n",
      "Episode: 3800\tAverage Score:0.01\tepsilon:1.8536253688593725\n",
      "Episode: 3900\tAverage Score:0.00\tepsilon:1.84992163789762\n",
      "Episode: 4000\tAverage Score:0.00\tepsilon:1.8462253073649229\n",
      "Episode: 4100\tAverage Score:0.00\tepsilon:1.8425363624744748\n",
      "Episode: 4200\tAverage Score:0.01\tepsilon:1.8388547884690158\n",
      "Episode: 4300\tAverage Score:0.01\tepsilon:1.8351805706207724\n",
      "Episode: 4400\tAverage Score:0.00\tepsilon:1.8315136942313985\n",
      "Episode: 4500\tAverage Score:0.00\tepsilon:1.8278541446319168\n",
      "Episode: 4600\tAverage Score:0.00\tepsilon:1.8242019071826596\n",
      "Episode: 4700\tAverage Score:0.01\tepsilon:1.8205569672732118\n",
      "Episode: 4800\tAverage Score:0.01\tepsilon:1.8169193103223502\n",
      "Episode: 4900\tAverage Score:0.01\tepsilon:1.8132889217779875\n",
      "Episode: 4914\tAverage Score: 0.00000000149011612"
     ]
    }
   ],
   "source": [
    "def run(episodes,experiment_name):\n",
    "    device = torch.device(\"cuda:0\" if torch.cuda.is_available() else \"cpu\")\n",
    "    \n",
    "    epsilon_start=2.0 \n",
    "    epsilon_min=0.01 \n",
    "    epsilon_decay=0.9999\n",
    "    epsilon = epsilon_start\n",
    "    batch_size = 1024\n",
    "    learning_rate = 0.0001\n",
    "    seed = 55\n",
    "    capacity = int(1e5)\n",
    "    tau = 1e-3\n",
    "    gamma=0.995\n",
    "    update_rate=1\n",
    "    \n",
    "    tb_writer = SummaryWriter('{}/{}'.format('logs',experiment_name))\n",
    "\n",
    "    agent_1 = DDPG(num_agents=num_agents, state_size=state_size, action_size=action_size, capacity=capacity,\n",
    "                   batch_size=batch_size,learning_rate=learning_rate, update_rate=update_rate,gamma=gamma, tau=tau, \n",
    "                   device=device, seed=seed, epsilon= epsilon_start)\n",
    "    agent_2 = DDPG(num_agents=num_agents, state_size=state_size, action_size=action_size, capacity=capacity,\n",
    "                   batch_size=batch_size,learning_rate=learning_rate, update_rate=update_rate,gamma=gamma, tau=tau, \n",
    "                   device=device, seed=seed, epsilon= epsilon_start)\n",
    "    score_window = deque(maxlen=100)\n",
    "    all_scores = []\n",
    "    \n",
    "    \n",
    "    \n",
    "    \n",
    "    for episode in range(episodes):\n",
    "        agent_1.reset()\n",
    "        agent_2.reset()\n",
    "        scores = np.zeros(num_agents) \n",
    "        dones = np.zeros((num_agents), dtype=bool)\n",
    "        env_info = env.reset(train_mode=True)[brain_name]\n",
    "        states = env_info.vector_observations \n",
    "        episode_score =0.\n",
    "        while not np.any(dones):\n",
    "            action_1 = agent_1.act(states[0], epsilon)\n",
    "            action_2 = agent_2.act(states[1], epsilon)\n",
    "            actions = np.vstack([action_1, action_2])\n",
    "            actions = np.clip(actions, -1, 1)\n",
    "            \n",
    "            env_info = env.step(actions)[brain_name]           # send all actions to tne environment\n",
    "            next_states = env_info.vector_observations         # get next state (for each agent)\n",
    "            rewards = env_info.rewards                        # get reward (for each agent)\n",
    "            dones = env_info.local_done                      # see if episode finished\n",
    "\n",
    "            scores += env_info.rewards                    # update the score (for each agent)\n",
    "            agent_1.step(states[0], actions[0], rewards[0], next_states[0], dones[0])\n",
    "            agent_2.step(states[1], actions[1], rewards[1], next_states[1], dones[1])\n",
    "            states = next_states\n",
    "            \n",
    "        episode_score = np.max(scores)\n",
    "        score_window.append(episode_score)\n",
    "        all_scores.append(episode_score)\n",
    "        \n",
    "        #decay after each episode\n",
    "        \n",
    "            \n",
    "        print('\\rEpisode: {}\\tAverage Score: {}'.format(episode, episode_score), end=\"\")\n",
    "        if episode % 100 == 0:\n",
    "            \n",
    "            print('\\rEpisode: {}\\tAverage Score:{:.2f}\\tepsilon:{}'.format(episode, np.average(score_window), epsilon))\n",
    "            tb_writer.add_scalar('Episode_Accum_score', np.mean(score_window), episode)\n",
    "        if episode % 5==0:\n",
    "#             epsilon = max(epsilon_min, epsilon*epsilon_decay)\n",
    "            epsilon *= epsilon_decay\n",
    "            epsilon = max(epsilon_min,epsilon)\n",
    "#         if np.mean(score_window) >= max_score:\n",
    "#             torch.save(agent.actor_local_network.state_dict(), 'actor_checkpoint.pth')\n",
    "#             torch.save(agent.critic_local_network.state_dict(), 'critic_checkpoint.pth')\n",
    "#             break\n",
    "            \n",
    "run(10000, experiment_name=\"test\" )"
   ]
  },
  {
   "cell_type": "code",
   "execution_count": null,
   "metadata": {},
   "outputs": [],
   "source": [
    "mylist = [1,2,3,4]\n",
    "my_list2 = list(map(list, zip(*mylist)))"
   ]
  },
  {
   "cell_type": "code",
   "execution_count": null,
   "metadata": {},
   "outputs": [],
   "source": [
    "np.random.randn(2)* 1."
   ]
  },
  {
   "cell_type": "code",
   "execution_count": null,
   "metadata": {},
   "outputs": [],
   "source": [
    "np.random.rand(2)* .8"
   ]
  },
  {
   "cell_type": "code",
   "execution_count": null,
   "metadata": {},
   "outputs": [],
   "source": [
    "np.array([np.random.randn() for i in range(2)])*1.0"
   ]
  },
  {
   "cell_type": "code",
   "execution_count": null,
   "metadata": {},
   "outputs": [],
   "source": []
  }
 ],
 "metadata": {
  "kernelspec": {
   "display_name": "Python 3",
   "language": "python",
   "name": "python3"
  },
  "language_info": {
   "codemirror_mode": {
    "name": "ipython",
    "version": 3
   },
   "file_extension": ".py",
   "mimetype": "text/x-python",
   "name": "python",
   "nbconvert_exporter": "python",
   "pygments_lexer": "ipython3",
   "version": "3.6.6"
  }
 },
 "nbformat": 4,
 "nbformat_minor": 2
}
